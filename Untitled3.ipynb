{
 "cells": [
  {
   "cell_type": "code",
   "execution_count": 1,
   "metadata": {},
   "outputs": [
    {
     "name": "stdout",
     "output_type": "stream",
     "text": [
      "Collecting SpeechRecognition\n",
      "  Downloading SpeechRecognition-3.8.1-py2.py3-none-any.whl (32.8 MB)\n",
      "Installing collected packages: SpeechRecognition\n",
      "Successfully installed SpeechRecognition-3.8.1\n"
     ]
    }
   ],
   "source": [
    "!pip install SpeechRecognition"
   ]
  },
  {
   "cell_type": "code",
   "execution_count": 4,
   "metadata": {},
   "outputs": [
    {
     "name": "stdout",
     "output_type": "stream",
     "text": [
      "Converting audio transcripts into text ...\n",
      "an apple a day good for your health\n"
     ]
    }
   ],
   "source": [
    "#import library\n",
    "import speech_recognition as sr\n",
    "\n",
    "# Initialize recognizer class (for recognizing the speech)\n",
    "r = sr.Recognizer()\n",
    "\n",
    "# Reading Audio file as source\n",
    "# listening the audio file and store in audio_text variable\n",
    "\n",
    "with sr.AudioFile('enyou.wav') as source:\n",
    "    \n",
    "    audio_text = r.listen(source)\n",
    "    \n",
    "# recoginize_() method will throw a request error if the API is unreachable, hence using exception handling\n",
    "    try:\n",
    "        \n",
    "        # using google speech recognition\n",
    "        text = r.recognize_google(audio_text)\n",
    "        print('Converting audio transcripts into text ...')\n",
    "        print(text)\n",
    "     \n",
    "    except:\n",
    "         print('Sorry.. run again...')"
   ]
  },
  {
   "cell_type": "code",
   "execution_count": 7,
   "metadata": {},
   "outputs": [
    {
     "name": "stdout",
     "output_type": "stream",
     "text": [
      "Collecting pipwin\n",
      "  Downloading pipwin-0.5.0-py2.py3-none-any.whl (7.6 kB)\n",
      "Requirement already satisfied: requests in c:\\users\\user\\anaconda3\\envs\\tf_gpu\\lib\\site-packages (from pipwin) (2.24.0)\n",
      "Requirement already satisfied: packaging in c:\\users\\user\\anaconda3\\envs\\tf_gpu\\lib\\site-packages (from pipwin) (20.4)\n",
      "Requirement already satisfied: six in c:\\users\\user\\anaconda3\\envs\\tf_gpu\\lib\\site-packages (from pipwin) (1.15.0)\n",
      "Collecting pySmartDL>=1.3.1; python_version >= \"3.4\"\n",
      "  Downloading pySmartDL-1.3.4-py3-none-any.whl (20 kB)\n",
      "Collecting js2py\n",
      "  Downloading Js2Py-0.70-py3-none-any.whl (605 kB)\n",
      "Collecting beautifulsoup4>=4.9.0\n",
      "  Downloading beautifulsoup4-4.9.2-py3-none-any.whl (115 kB)\n",
      "Collecting docopt\n",
      "  Downloading docopt-0.6.2.tar.gz (25 kB)\n",
      "Collecting pyprind\n",
      "  Downloading PyPrind-2.11.2-py3-none-any.whl (8.6 kB)\n",
      "Requirement already satisfied: idna<3,>=2.5 in c:\\users\\user\\anaconda3\\envs\\tf_gpu\\lib\\site-packages (from requests->pipwin) (2.10)\n",
      "Requirement already satisfied: urllib3!=1.25.0,!=1.25.1,<1.26,>=1.21.1 in c:\\users\\user\\anaconda3\\envs\\tf_gpu\\lib\\site-packages (from requests->pipwin) (1.25.10)\n",
      "Requirement already satisfied: certifi>=2017.4.17 in c:\\users\\user\\anaconda3\\envs\\tf_gpu\\lib\\site-packages (from requests->pipwin) (2020.6.20)\n",
      "Requirement already satisfied: chardet<4,>=3.0.2 in c:\\users\\user\\anaconda3\\envs\\tf_gpu\\lib\\site-packages (from requests->pipwin) (3.0.4)\n",
      "Requirement already satisfied: pyparsing>=2.0.2 in c:\\users\\user\\anaconda3\\envs\\tf_gpu\\lib\\site-packages (from packaging->pipwin) (2.4.7)\n",
      "Collecting tzlocal>=1.2\n",
      "  Downloading tzlocal-2.1-py2.py3-none-any.whl (16 kB)\n",
      "Collecting pyjsparser>=2.5.1\n",
      "  Downloading pyjsparser-2.7.1.tar.gz (24 kB)\n",
      "Collecting soupsieve>1.2; python_version >= \"3.0\"\n",
      "  Downloading soupsieve-2.0.1-py3-none-any.whl (32 kB)\n",
      "Requirement already satisfied: pytz in c:\\users\\user\\anaconda3\\envs\\tf_gpu\\lib\\site-packages (from tzlocal>=1.2->js2py->pipwin) (2020.1)\n",
      "Building wheels for collected packages: docopt, pyjsparser\n",
      "  Building wheel for docopt (setup.py): started\n",
      "  Building wheel for docopt (setup.py): finished with status 'done'\n",
      "  Created wheel for docopt: filename=docopt-0.6.2-py2.py3-none-any.whl size=13709 sha256=ba3b97dc021d9095d186832f227e0b8ae0b1b3592a7ed4ce75c5166a12397dac\n",
      "  Stored in directory: c:\\users\\user\\appdata\\local\\pip\\cache\\wheels\\72\\b0\\3f\\1d95f96ff986c7dfffe46ce2be4062f38ebd04b506c77c81b9\n",
      "  Building wheel for pyjsparser (setup.py): started\n",
      "  Building wheel for pyjsparser (setup.py): finished with status 'done'\n",
      "  Created wheel for pyjsparser: filename=pyjsparser-2.7.1-py3-none-any.whl size=26004 sha256=c8da091b5e3b811d066b7fe72981ee2ea18ee93b9319163e6c8d5e96a301573c\n",
      "  Stored in directory: c:\\users\\user\\appdata\\local\\pip\\cache\\wheels\\2a\\80\\ac\\dcd2bdbd03dd2b7b7e2bf3e5afbda6a1ab7935bbce314969da\n",
      "Successfully built docopt pyjsparser\n",
      "Installing collected packages: pySmartDL, tzlocal, pyjsparser, js2py, soupsieve, beautifulsoup4, docopt, pyprind, pipwin\n",
      "Successfully installed beautifulsoup4-4.9.2 docopt-0.6.2 js2py-0.70 pipwin-0.5.0 pySmartDL-1.3.4 pyjsparser-2.7.1 pyprind-2.11.2 soupsieve-2.0.1 tzlocal-2.1\n",
      "Building cache. Hang on . . .\n",
      "Done\n",
      "Package `pyaudio` found in cache\n",
      "Downloading package . . .\n",
      "https://download.lfd.uci.edu/pythonlibs/x2tqcw5k/PyAudio-0.2.11-cp37-cp37m-win_amd64.whl\n",
      "PyAudio-0.2.11-cp37-cp37m-win_amd64.whl\n",
      "[*] 0 bytes / 109 kB @ 0 bytes/s [------------------] [0.0%, 0s left]   [*] 0 bytes / 109 kB @ 0 bytes/s [------------------] [0.0%, 0s left]   [*] 0 bytes / 109 kB @ 0 bytes/s [------------------] [0.0%, 0s left]   [*] 0 bytes / 109 kB @ 0 bytes/s [------------------] [0.0%, 0s left]   [*] 0 bytes / 109 kB @ 0 bytes/s [------------------] [0.0%, 0s left]   [*] 0 bytes / 109 kB @ 0 bytes/s [------------------] [0.0%, 0s left]   [*] 0 bytes / 109 kB @ 0 bytes/s [------------------] [0.0%, 0s left]   [*] 0 bytes / 109 kB @ 0 bytes/s [------------------] [0.0%, 0s left]   [*] 8 kB / 109 kB @ 9 kB/s [#-----------------] [7.4%, 0s left]   [*] 8 kB / 109 kB @ 8 kB/s [#-----------------] [7.4%, 0s left]   [*] 24 kB / 109 kB @ 22 kB/s [###---------------] [22.1%, 0s left]  [*] 56 kB / 109 kB @ 47 kB/s [#########---------] [51.6%, 0s left]  [*] 56 kB / 109 kB @ 43 kB/s [#########---------] [51.6%, 0s left]  [*] 88 kB / 109 kB @ 63 kB/s [##############----] [81.1%, 0s left]  Processing c:\\users\\user\\pipwin\\pyaudio-0.2.11-cp37-cp37m-win_amd64.whl\n",
      "Installing collected packages: PyAudio\n",
      "Successfully installed PyAudio-0.2.11\n",
      "[*] 109 kB / 109 kB @ 63 kB/s [##################] [100%, 0s left]    \n"
     ]
    }
   ],
   "source": [
    "!pip install pipwin\n",
    "!pipwin install pyaudio\n"
   ]
  },
  {
   "cell_type": "code",
   "execution_count": 16,
   "metadata": {},
   "outputs": [
    {
     "name": "stdout",
     "output_type": "stream",
     "text": [
      "Talk\n",
      "Time over, thanks\n",
      "Text: how are you\n"
     ]
    }
   ],
   "source": [
    "#import library\n",
    "\n",
    "import speech_recognition as sr\n",
    "\n",
    "# Initialize recognizer class (for recognizing the speech)\n",
    "\n",
    "r = sr.Recognizer()\n",
    "\n",
    "# Reading Microphone as source\n",
    "# listening the speech and store in audio_text variable\n",
    "\n",
    "with sr.Microphone() as source:\n",
    "    print(\"Talk\")\n",
    "    audio_text = r.listen(source)\n",
    "    print(\"Time over, thanks\")\n",
    "# recoginize_() method will throw a request error if the API is unreachable, hence using exception handling\n",
    "    \n",
    "    try:\n",
    "        # using google speech recognition\n",
    "        print(\"Text: \"+r.recognize_google(audio_text))\n",
    "    except:\n",
    "         print(\"Sorry, I did not get that\")"
   ]
  },
  {
   "cell_type": "code",
   "execution_count": null,
   "metadata": {},
   "outputs": [],
   "source": []
  },
  {
   "cell_type": "code",
   "execution_count": null,
   "metadata": {},
   "outputs": [],
   "source": []
  }
 ],
 "metadata": {
  "kernelspec": {
   "display_name": "Python 3",
   "language": "python",
   "name": "python3"
  },
  "language_info": {
   "codemirror_mode": {
    "name": "ipython",
    "version": 3
   },
   "file_extension": ".py",
   "mimetype": "text/x-python",
   "name": "python",
   "nbconvert_exporter": "python",
   "pygments_lexer": "ipython3",
   "version": "3.7.9"
  }
 },
 "nbformat": 4,
 "nbformat_minor": 4
}
