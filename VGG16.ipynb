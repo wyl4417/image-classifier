{
 "cells": [
  {
   "cell_type": "code",
   "execution_count": 1,
   "metadata": {},
   "outputs": [
    {
     "name": "stderr",
     "output_type": "stream",
     "text": [
      "Using TensorFlow backend.\n"
     ]
    }
   ],
   "source": [
    "import pandas as pd\n",
    "from keras.preprocessing.image import ImageDataGenerator\n",
    "import keras\n",
    "from keras.models import Sequential\n",
    "from keras.layers import Dense, Dropout, Flatten, InputLayer, BatchNormalization\n",
    "from keras.layers import Conv2D, MaxPooling2D\n",
    "from keras.utils import to_categorical\n",
    "from keras.preprocessing import image\n",
    "import tensorflow as tf\n",
    "from PIL import Image\n",
    "from tensorflow import keras\n",
    "config = tf.compat.v1.ConfigProto()\n",
    "config.gpu_options.per_process_gpu_memory_fraction = 0.9\n",
    "\n",
    "tf.compat.v1.keras.backend.set_session(tf.compat.v1.Session(config=config))"
   ]
  },
  {
   "cell_type": "code",
   "execution_count": 2,
   "metadata": {},
   "outputs": [],
   "source": [
    "def preprocess(image):\n",
    "    #resized_image = tf.image.resize(image,[224,224])\n",
    "    final_image=keras.applications.vgg16.preprocess_input(image)\n",
    "    return final_image\n"
   ]
  },
  {
   "cell_type": "code",
   "execution_count": 3,
   "metadata": {},
   "outputs": [],
   "source": [
    "train_datagen = ImageDataGenerator(validation_split = 0.2,preprocessing_function=preprocess)"
   ]
  },
  {
   "cell_type": "code",
   "execution_count": 4,
   "metadata": {},
   "outputs": [
    {
     "name": "stdout",
     "output_type": "stream",
     "text": [
      "Found 84331 images belonging to 42 classes.\n",
      "Found 21061 images belonging to 42 classes.\n"
     ]
    }
   ],
   "source": [
    "train_generator = train_datagen.flow_from_directory(\n",
    "        r'D:\\Downloads\\Copy of shopee-product-detection-dataset\\train\\train',\n",
    "        subset = 'training',# this is the target directory\n",
    "        target_size=(224, 224),  # all images will be resized to 150x150\n",
    "        batch_size=32,\n",
    "        color_mode=\"rgb\",\n",
    "        class_mode=\"categorical\",\n",
    "        shuffle=True,\n",
    "        seed=42) \n",
    "\n",
    "\n",
    "val_generator = train_datagen.flow_from_directory(\n",
    "        r'D:\\Downloads\\Copy of shopee-product-detection-dataset\\train\\train',\n",
    "        subset = 'validation',# this is the target directo\n",
    "        target_size=(224, 224),  # all images will be resized to 150x150\n",
    "        batch_size=32,\n",
    "        color_mode=\"rgb\",\n",
    "        class_mode=\"categorical\",\n",
    "        shuffle=True,\n",
    "        seed=42) \n"
   ]
  },
  {
   "cell_type": "code",
   "execution_count": 5,
   "metadata": {},
   "outputs": [],
   "source": [
    "base_model=keras.applications.VGG16(weights=\"imagenet\",include_top=False)"
   ]
  },
  {
   "cell_type": "code",
   "execution_count": null,
   "metadata": {},
   "outputs": [],
   "source": []
  },
  {
   "cell_type": "code",
   "execution_count": 6,
   "metadata": {},
   "outputs": [],
   "source": [
    "for layer in base_model.layers:\n",
    "    layer.trainable=False"
   ]
  },
  {
   "cell_type": "code",
   "execution_count": 7,
   "metadata": {},
   "outputs": [],
   "source": [
    "inputs=keras.Input(shape=(224,224,3))\n",
    "base_model=base_model(inputs,training=False)"
   ]
  },
  {
   "cell_type": "code",
   "execution_count": 8,
   "metadata": {},
   "outputs": [],
   "source": [
    "avg=keras.layers.GlobalAveragePooling2D()(base_model)\n",
    "output=keras.layers.Dense(42,activation=\"softmax\")(avg)\n",
    "model=keras.Model(inputs=inputs,outputs=output)"
   ]
  },
  {
   "cell_type": "code",
   "execution_count": 9,
   "metadata": {},
   "outputs": [],
   "source": [
    "optimizer=keras.optimizers.SGD(lr=0.2,momentum=0.9,decay=0.01)\n",
    "model.compile(loss=\"categorical_crossentropy\",optimizer=optimizer,metrics=[\"accuracy\"])"
   ]
  },
  {
   "cell_type": "code",
   "execution_count": 10,
   "metadata": {},
   "outputs": [
    {
     "name": "stdout",
     "output_type": "stream",
     "text": [
      "Model: \"model\"\n",
      "_________________________________________________________________\n",
      "Layer (type)                 Output Shape              Param #   \n",
      "=================================================================\n",
      "input_2 (InputLayer)         [(None, 224, 224, 3)]     0         \n",
      "_________________________________________________________________\n",
      "vgg16 (Model)                multiple                  14714688  \n",
      "_________________________________________________________________\n",
      "global_average_pooling2d (Gl (None, 512)               0         \n",
      "_________________________________________________________________\n",
      "dense (Dense)                (None, 42)                21546     \n",
      "=================================================================\n",
      "Total params: 14,736,234\n",
      "Trainable params: 21,546\n",
      "Non-trainable params: 14,714,688\n",
      "_________________________________________________________________\n"
     ]
    }
   ],
   "source": [
    "model.summary()"
   ]
  },
  {
   "cell_type": "code",
   "execution_count": 11,
   "metadata": {},
   "outputs": [
    {
     "name": "stdout",
     "output_type": "stream",
     "text": [
      "WARNING:tensorflow:sample_weight modes were coerced from\n",
      "  ...\n",
      "    to  \n",
      "  ['...']\n",
      "WARNING:tensorflow:sample_weight modes were coerced from\n",
      "  ...\n",
      "    to  \n",
      "  ['...']\n",
      "Train for 2636 steps, validate for 659 steps\n",
      "Epoch 1/5\n",
      "2636/2636 [==============================] - 7754s 3s/step - loss: 81.7868 - accuracy: 0.5779 - val_loss: 43.1739 - val_accuracy: 0.6108\n",
      "Epoch 2/5\n",
      "2636/2636 [==============================] - 1483s 562ms/step - loss: 30.3885 - accuracy: 0.6380 - val_loss: 31.2814 - val_accuracy: 0.6180\n",
      "Epoch 3/5\n",
      "2636/2636 [==============================] - 1229s 466ms/step - loss: 22.8666 - accuracy: 0.6474 - val_loss: 26.7090 - val_accuracy: 0.6143\n",
      "Epoch 4/5\n",
      "2636/2636 [==============================] - 1239s 470ms/step - loss: 19.2779 - accuracy: 0.6523 - val_loss: 24.2267 - val_accuracy: 0.6129\n",
      "Epoch 5/5\n",
      "2636/2636 [==============================] - 1230s 466ms/step - loss: 17.0761 - accuracy: 0.6551 - val_loss: 22.2040 - val_accuracy: 0.6140\n"
     ]
    }
   ],
   "source": [
    "history=model.fit(train_generator,epochs=5,validation_data=val_generator)"
   ]
  },
  {
   "cell_type": "code",
   "execution_count": 12,
   "metadata": {},
   "outputs": [
    {
     "name": "stdout",
     "output_type": "stream",
     "text": [
      "WARNING:tensorflow:sample_weight modes were coerced from\n",
      "  ...\n",
      "    to  \n",
      "  ['...']\n",
      "WARNING:tensorflow:sample_weight modes were coerced from\n",
      "  ...\n",
      "    to  \n",
      "  ['...']\n",
      "Train for 2636 steps, validate for 659 steps\n",
      "Epoch 1/50\n",
      "2636/2636 [==============================] - 1286s 488ms/step - loss: 17.8000 - accuracy: 0.6332 - val_loss: 19.5067 - val_accuracy: 0.6127\n",
      "Epoch 2/50\n",
      "2636/2636 [==============================] - 1339s 508ms/step - loss: 13.3771 - accuracy: 0.6532 - val_loss: 17.3717 - val_accuracy: 0.6111\n",
      "Epoch 3/50\n",
      "2636/2636 [==============================] - 1330s 505ms/step - loss: 11.7829 - accuracy: 0.6575 - val_loss: 16.3173 - val_accuracy: 0.6143\n",
      "Epoch 4/50\n",
      "2636/2636 [==============================] - 1342s 509ms/step - loss: 10.8301 - accuracy: 0.6614 - val_loss: 15.5957 - val_accuracy: 0.6069\n",
      "Epoch 5/50\n",
      "2636/2636 [==============================] - 1310s 497ms/step - loss: 10.1912 - accuracy: 0.6631 - val_loss: 15.0323 - val_accuracy: 0.6128\n",
      "Epoch 6/50\n",
      "2636/2636 [==============================] - 1239s 470ms/step - loss: 9.7380 - accuracy: 0.6644 - val_loss: 14.6051 - val_accuracy: 0.6119\n",
      "Epoch 7/50\n",
      "2636/2636 [==============================] - 1248s 473ms/step - loss: 9.3830 - accuracy: 0.6640 - val_loss: 14.2154 - val_accuracy: 0.6103\n",
      "Epoch 8/50\n",
      "2636/2636 [==============================] - 1264s 480ms/step - loss: 9.0742 - accuracy: 0.6669 - val_loss: 13.9381 - val_accuracy: 0.6113\n",
      "Epoch 9/50\n",
      "2636/2636 [==============================] - 1250s 474ms/step - loss: 8.8296 - accuracy: 0.6652 - val_loss: 13.6663 - val_accuracy: 0.6102\n",
      "Epoch 10/50\n",
      "2636/2636 [==============================] - 1251s 474ms/step - loss: 8.6163 - accuracy: 0.6666 - val_loss: 13.4465 - val_accuracy: 0.6097\n",
      "Epoch 11/50\n",
      "2636/2636 [==============================] - 1261s 478ms/step - loss: 8.4338 - accuracy: 0.6660 - val_loss: 13.2053 - val_accuracy: 0.6092\n",
      "Epoch 12/50\n",
      "2636/2636 [==============================] - 1248s 474ms/step - loss: 8.2708 - accuracy: 0.6659 - val_loss: 13.0326 - val_accuracy: 0.6096\n",
      "Epoch 13/50\n",
      "2636/2636 [==============================] - 1250s 474ms/step - loss: 8.1262 - accuracy: 0.6663 - val_loss: 12.8722 - val_accuracy: 0.6107\n",
      "Epoch 14/50\n",
      "2636/2636 [==============================] - 1265s 480ms/step - loss: 7.9989 - accuracy: 0.6676 - val_loss: 12.7399 - val_accuracy: 0.6091\n",
      "Epoch 15/50\n",
      "2636/2636 [==============================] - 1251s 475ms/step - loss: 7.8769 - accuracy: 0.6659 - val_loss: 12.6042 - val_accuracy: 0.6078\n",
      "Epoch 16/50\n",
      "2636/2636 [==============================] - 1250s 474ms/step - loss: 7.7719 - accuracy: 0.6676 - val_loss: 12.4539 - val_accuracy: 0.6084\n",
      "Epoch 17/50\n",
      "2636/2636 [==============================] - 1262s 479ms/step - loss: 7.6714 - accuracy: 0.6679 - val_loss: 12.3809 - val_accuracy: 0.6068\n",
      "Epoch 18/50\n",
      "2636/2636 [==============================] - 1250s 474ms/step - loss: 7.5782 - accuracy: 0.6665 - val_loss: 12.2383 - val_accuracy: 0.6092\n",
      "Epoch 19/50\n",
      "2636/2636 [==============================] - 1251s 475ms/step - loss: 7.4987 - accuracy: 0.6671 - val_loss: 12.1300 - val_accuracy: 0.6091\n",
      "Epoch 20/50\n",
      "2636/2636 [==============================] - 1268s 481ms/step - loss: 7.4196 - accuracy: 0.6668 - val_loss: 12.0433 - val_accuracy: 0.6082\n",
      "Epoch 21/50\n",
      "2636/2636 [==============================] - 1257s 477ms/step - loss: 7.3437 - accuracy: 0.6672 - val_loss: 11.9699 - val_accuracy: 0.6059\n",
      "Epoch 22/50\n",
      "2636/2636 [==============================] - 1251s 475ms/step - loss: 7.2767 - accuracy: 0.6668 - val_loss: 11.8724 - val_accuracy: 0.6080\n",
      "Epoch 23/50\n",
      "2636/2636 [==============================] - 1267s 481ms/step - loss: 7.2082 - accuracy: 0.6683 - val_loss: 11.8087 - val_accuracy: 0.6071\n",
      "Epoch 24/50\n",
      "2636/2636 [==============================] - 1268s 481ms/step - loss: 7.1446 - accuracy: 0.6687 - val_loss: 11.7062 - val_accuracy: 0.6063\n",
      "Epoch 25/50\n",
      "2636/2636 [==============================] - 1273s 483ms/step - loss: 7.0858 - accuracy: 0.6680 - val_loss: 11.6244 - val_accuracy: 0.6074\n",
      "Epoch 26/50\n",
      "2636/2636 [==============================] - 1290s 489ms/step - loss: 7.0280 - accuracy: 0.6675 - val_loss: 11.5427 - val_accuracy: 0.6074\n",
      "Epoch 27/50\n",
      "2636/2636 [==============================] - 1296s 492ms/step - loss: 6.9796 - accuracy: 0.6676 - val_loss: 11.4845 - val_accuracy: 0.6069\n",
      "Epoch 28/50\n",
      "2636/2636 [==============================] - 1312s 498ms/step - loss: 6.9273 - accuracy: 0.6666 - val_loss: 11.4268 - val_accuracy: 0.6066\n",
      "Epoch 29/50\n",
      "2636/2636 [==============================] - 1343s 510ms/step - loss: 6.8798 - accuracy: 0.6673 - val_loss: 11.3576 - val_accuracy: 0.6072\n",
      "Epoch 30/50\n",
      "2636/2636 [==============================] - 1328s 504ms/step - loss: 6.8302 - accuracy: 0.6680 - val_loss: 11.3102 - val_accuracy: 0.6076\n",
      "Epoch 31/50\n",
      "2636/2636 [==============================] - 1298s 492ms/step - loss: 6.7883 - accuracy: 0.6680 - val_loss: 11.2671 - val_accuracy: 0.6055\n",
      "Epoch 32/50\n",
      "2636/2636 [==============================] - 1299s 493ms/step - loss: 6.7496 - accuracy: 0.6670 - val_loss: 11.1908 - val_accuracy: 0.6054\n",
      "Epoch 33/50\n",
      "2636/2636 [==============================] - 1299s 493ms/step - loss: 6.7051 - accuracy: 0.6679 - val_loss: 11.1396 - val_accuracy: 0.6056\n",
      "Epoch 34/50\n",
      "2636/2636 [==============================] - 1291s 490ms/step - loss: 6.6659 - accuracy: 0.6676 - val_loss: 11.0890 - val_accuracy: 0.6083\n",
      "Epoch 35/50\n",
      "2636/2636 [==============================] - 1318s 500ms/step - loss: 6.6302 - accuracy: 0.6685 - val_loss: 11.0297 - val_accuracy: 0.6046\n",
      "Epoch 36/50\n",
      "2636/2636 [==============================] - 1311s 497ms/step - loss: 6.5917 - accuracy: 0.6680 - val_loss: 10.9985 - val_accuracy: 0.6041\n",
      "Epoch 37/50\n",
      "2636/2636 [==============================] - 1306s 496ms/step - loss: 6.5592 - accuracy: 0.6668 - val_loss: 10.9596 - val_accuracy: 0.6063\n",
      "Epoch 38/50\n",
      "2636/2636 [==============================] - 1447s 549ms/step - loss: 6.5248 - accuracy: 0.6680 - val_loss: 10.9055 - val_accuracy: 0.6061\n",
      "Epoch 39/50\n",
      "2636/2636 [==============================] - 1572s 596ms/step - loss: 6.4888 - accuracy: 0.6688 - val_loss: 10.8664 - val_accuracy: 0.6064\n",
      "Epoch 40/50\n",
      "2636/2636 [==============================] - 1821s 691ms/step - loss: 6.4609 - accuracy: 0.6681 - val_loss: 10.8138 - val_accuracy: 0.6059\n",
      "Epoch 41/50\n",
      "2636/2636 [==============================] - 1569s 595ms/step - loss: 6.4290 - accuracy: 0.6678 - val_loss: 10.7793 - val_accuracy: 0.6066\n",
      "Epoch 42/50\n",
      "2636/2636 [==============================] - 1440s 546ms/step - loss: 6.3987 - accuracy: 0.6676 - val_loss: 10.7305 - val_accuracy: 0.6060\n",
      "Epoch 43/50\n",
      "2636/2636 [==============================] - 1397s 530ms/step - loss: 6.3700 - accuracy: 0.6680 - val_loss: 10.7030 - val_accuracy: 0.6057\n",
      "Epoch 44/50\n",
      "2636/2636 [==============================] - 1405s 533ms/step - loss: 6.3424 - accuracy: 0.6683 - val_loss: 10.6666 - val_accuracy: 0.6049\n",
      "Epoch 45/50\n",
      "2636/2636 [==============================] - 1438s 546ms/step - loss: 6.3151 - accuracy: 0.6677 - val_loss: 10.6390 - val_accuracy: 0.6060\n",
      "Epoch 46/50\n",
      "2636/2636 [==============================] - 1475s 560ms/step - loss: 6.2867 - accuracy: 0.6684 - val_loss: 10.5906 - val_accuracy: 0.6059\n",
      "Epoch 47/50\n",
      "2636/2636 [==============================] - 1466s 556ms/step - loss: 6.2625 - accuracy: 0.6690 - val_loss: 10.5537 - val_accuracy: 0.6060\n",
      "Epoch 48/50\n",
      "2636/2636 [==============================] - 1462s 555ms/step - loss: 6.2377 - accuracy: 0.6677 - val_loss: 10.5218 - val_accuracy: 0.6068\n",
      "Epoch 49/50\n",
      "2636/2636 [==============================] - 1473s 559ms/step - loss: 6.2137 - accuracy: 0.6686 - val_loss: 10.4926 - val_accuracy: 0.6060\n",
      "Epoch 50/50\n",
      "2636/2636 [==============================] - 1306s 496ms/step - loss: 6.1911 - accuracy: 0.6683 - val_loss: 10.4480 - val_accuracy: 0.6059\n"
     ]
    }
   ],
   "source": [
    "base_model.trainable=True\n",
    "    \n",
    "optimizer=keras.optimizers.SGD(lr=0.01,nesterov=True,momentum=0.9,decay=0.001)\n",
    "model.compile(loss=\"categorical_crossentropy\",optimizer=optimizer,metrics=[\"accuracy\"])\n",
    "history=model.fit(train_generator,epochs=50,validation_data=val_generator)"
   ]
  },
  {
   "cell_type": "code",
   "execution_count": 13,
   "metadata": {},
   "outputs": [],
   "source": [
    "test_datagen = ImageDataGenerator(validation_split = 0.2,preprocessing_function=preprocess)"
   ]
  },
  {
   "cell_type": "code",
   "execution_count": 25,
   "metadata": {},
   "outputs": [
    {
     "name": "stdout",
     "output_type": "stream",
     "text": [
      "Found 12192 images belonging to 1 classes.\n"
     ]
    }
   ],
   "source": [
    "\n",
    "test_generator = train_datagen.flow_from_directory(\n",
    "        r'D:\\Downloads\\Copy of shopee-product-detection-dataset\\test',\n",
    "        # this is the target directo\n",
    "        target_size=(224, 224),  # all images will be resized to 150x150\n",
    "        batch_size=1,\n",
    "        color_mode=\"rgb\",\n",
    "        class_mode=None,\n",
    "        shuffle=False,\n",
    "        seed=42) "
   ]
  },
  {
   "cell_type": "code",
   "execution_count": 162,
   "metadata": {},
   "outputs": [
    {
     "data": {
      "text/plain": [
       "(224, 224, 3)"
      ]
     },
     "execution_count": 162,
     "metadata": {},
     "output_type": "execute_result"
    }
   ],
   "source": [
    "test_generator[0][0].shape"
   ]
  },
  {
   "cell_type": "code",
   "execution_count": 166,
   "metadata": {},
   "outputs": [
    {
     "name": "stderr",
     "output_type": "stream",
     "text": [
      "Clipping input data to the valid range for imshow with RGB data ([0..1] for floats or [0..255] for integers).\n"
     ]
    },
    {
     "data": {
      "image/png": "[encoded data removed]",
      "text/plain": [
       "<Figure size 432x288 with 1 Axes>"
      ]
     },
     "metadata": {
      "needs_background": "light"
     },
     "output_type": "display_data"
    }
   ],
   "source": [
    "from matplotlib import pyplot as plt\n",
    "plt.imshow(test_generator[1][0], interpolation='nearest')\n",
    "plt.show()\n"
   ]
  },
  {
   "cell_type": "code",
   "execution_count": 62,
   "metadata": {},
   "outputs": [],
   "source": [
    "test = pd.read_csv(r'D:\\Downloads\\Copy of shopee-product-detection-dataset\\test.csv')"
   ]
  },
  {
   "cell_type": "code",
   "execution_count": 63,
   "metadata": {},
   "outputs": [
    {
     "data": {
      "text/plain": [
       "12186"
      ]
     },
     "execution_count": 63,
     "metadata": {},
     "output_type": "execute_result"
    }
   ],
   "source": [
    "len(test)"
   ]
  },
  {
   "cell_type": "code",
   "execution_count": 26,
   "metadata": {},
   "outputs": [],
   "source": [
    "predict = model.predict_generator(test_generator,steps = 12192)"
   ]
  },
  {
   "cell_type": "code",
   "execution_count": 27,
   "metadata": {},
   "outputs": [
    {
     "data": {
      "text/plain": [
       "array([[0.0000000e+00, 0.0000000e+00, 0.0000000e+00, ..., 1.8123951e-32,\n",
       "        0.0000000e+00, 1.1975703e-36],\n",
       "       [3.2850740e-13, 8.9284701e-34, 2.3697658e-11, ..., 0.0000000e+00,\n",
       "        0.0000000e+00, 0.0000000e+00],\n",
       "       [0.0000000e+00, 0.0000000e+00, 7.0573128e-35, ..., 5.8397659e-06,\n",
       "        5.5577628e-05, 4.0868819e-09],\n",
       "       ...,\n",
       "       [2.5154182e-38, 0.0000000e+00, 0.0000000e+00, ..., 1.4341272e-24,\n",
       "        5.8592620e-16, 4.4084902e-21],\n",
       "       [1.4011687e-38, 0.0000000e+00, 0.0000000e+00, ..., 1.2838761e-26,\n",
       "        7.5318763e-26, 1.8363538e-27],\n",
       "       [0.0000000e+00, 0.0000000e+00, 5.4004267e-37, ..., 0.0000000e+00,\n",
       "        9.1405791e-28, 1.1269988e-34]], dtype=float32)"
      ]
     },
     "execution_count": 27,
     "metadata": {},
     "output_type": "execute_result"
    }
   ],
   "source": [
    "predict"
   ]
  },
  {
   "cell_type": "code",
   "execution_count": 269,
   "metadata": {},
   "outputs": [
    {
     "data": {
      "text/html": [
       "<div>\n",
       "<style scoped>\n",
       "    .dataframe tbody tr th:only-of-type {\n",
       "        vertical-align: middle;\n",
       "    }\n",
       "\n",
       "    .dataframe tbody tr th {\n",
       "        vertical-align: top;\n",
       "    }\n",
       "\n",
       "    .dataframe thead th {\n",
       "        text-align: right;\n",
       "    }\n",
       "</style>\n",
       "<table border=\"1\" class=\"dataframe\">\n",
       "  <thead>\n",
       "    <tr style=\"text-align: right;\">\n",
       "      <th></th>\n",
       "      <th>0</th>\n",
       "      <th>1</th>\n",
       "      <th>2</th>\n",
       "      <th>3</th>\n",
       "      <th>4</th>\n",
       "      <th>5</th>\n",
       "      <th>6</th>\n",
       "      <th>7</th>\n",
       "      <th>8</th>\n",
       "      <th>9</th>\n",
       "      <th>...</th>\n",
       "      <th>32</th>\n",
       "      <th>33</th>\n",
       "      <th>34</th>\n",
       "      <th>35</th>\n",
       "      <th>36</th>\n",
       "      <th>37</th>\n",
       "      <th>38</th>\n",
       "      <th>39</th>\n",
       "      <th>40</th>\n",
       "      <th>41</th>\n",
       "    </tr>\n",
       "  </thead>\n",
       "  <tbody>\n",
       "    <tr>\n",
       "      <th>0</th>\n",
       "      <td>0.000000e+00</td>\n",
       "      <td>0.000000e+00</td>\n",
       "      <td>0.000000e+00</td>\n",
       "      <td>0.000000e+00</td>\n",
       "      <td>0.0</td>\n",
       "      <td>0.000000e+00</td>\n",
       "      <td>0.000000e+00</td>\n",
       "      <td>0.000000e+00</td>\n",
       "      <td>0.000000e+00</td>\n",
       "      <td>2.753801e-29</td>\n",
       "      <td>...</td>\n",
       "      <td>0.000000e+00</td>\n",
       "      <td>0.000000e+00</td>\n",
       "      <td>0.000000e+00</td>\n",
       "      <td>0.000000e+00</td>\n",
       "      <td>1.298558e-35</td>\n",
       "      <td>0.000000e+00</td>\n",
       "      <td>0.000000e+00</td>\n",
       "      <td>1.812395e-32</td>\n",
       "      <td>0.000000e+00</td>\n",
       "      <td>1.197570e-36</td>\n",
       "    </tr>\n",
       "    <tr>\n",
       "      <th>1</th>\n",
       "      <td>3.285074e-13</td>\n",
       "      <td>8.928470e-34</td>\n",
       "      <td>2.369766e-11</td>\n",
       "      <td>1.687883e-23</td>\n",
       "      <td>0.0</td>\n",
       "      <td>1.421888e-31</td>\n",
       "      <td>0.000000e+00</td>\n",
       "      <td>0.000000e+00</td>\n",
       "      <td>0.000000e+00</td>\n",
       "      <td>0.000000e+00</td>\n",
       "      <td>...</td>\n",
       "      <td>0.000000e+00</td>\n",
       "      <td>0.000000e+00</td>\n",
       "      <td>0.000000e+00</td>\n",
       "      <td>0.000000e+00</td>\n",
       "      <td>0.000000e+00</td>\n",
       "      <td>0.000000e+00</td>\n",
       "      <td>0.000000e+00</td>\n",
       "      <td>0.000000e+00</td>\n",
       "      <td>0.000000e+00</td>\n",
       "      <td>0.000000e+00</td>\n",
       "    </tr>\n",
       "    <tr>\n",
       "      <th>2</th>\n",
       "      <td>0.000000e+00</td>\n",
       "      <td>0.000000e+00</td>\n",
       "      <td>7.057313e-35</td>\n",
       "      <td>2.700236e-30</td>\n",
       "      <td>0.0</td>\n",
       "      <td>3.274752e-27</td>\n",
       "      <td>1.139715e-12</td>\n",
       "      <td>5.176672e-27</td>\n",
       "      <td>5.682398e-14</td>\n",
       "      <td>3.785910e-24</td>\n",
       "      <td>...</td>\n",
       "      <td>5.591325e-33</td>\n",
       "      <td>0.000000e+00</td>\n",
       "      <td>8.697151e-12</td>\n",
       "      <td>5.205094e-17</td>\n",
       "      <td>7.599243e-01</td>\n",
       "      <td>2.850452e-30</td>\n",
       "      <td>9.510226e-02</td>\n",
       "      <td>5.839766e-06</td>\n",
       "      <td>5.557763e-05</td>\n",
       "      <td>4.086882e-09</td>\n",
       "    </tr>\n",
       "    <tr>\n",
       "      <th>3</th>\n",
       "      <td>3.749531e-34</td>\n",
       "      <td>1.787468e-36</td>\n",
       "      <td>5.069679e-35</td>\n",
       "      <td>0.000000e+00</td>\n",
       "      <td>0.0</td>\n",
       "      <td>1.936048e-38</td>\n",
       "      <td>0.000000e+00</td>\n",
       "      <td>0.000000e+00</td>\n",
       "      <td>2.443096e-28</td>\n",
       "      <td>9.178845e-13</td>\n",
       "      <td>...</td>\n",
       "      <td>0.000000e+00</td>\n",
       "      <td>0.000000e+00</td>\n",
       "      <td>2.518557e-25</td>\n",
       "      <td>2.754715e-37</td>\n",
       "      <td>1.131773e-11</td>\n",
       "      <td>2.063561e-25</td>\n",
       "      <td>1.240158e-12</td>\n",
       "      <td>4.016607e-17</td>\n",
       "      <td>1.229243e-23</td>\n",
       "      <td>1.890447e-10</td>\n",
       "    </tr>\n",
       "    <tr>\n",
       "      <th>4</th>\n",
       "      <td>0.000000e+00</td>\n",
       "      <td>0.000000e+00</td>\n",
       "      <td>0.000000e+00</td>\n",
       "      <td>0.000000e+00</td>\n",
       "      <td>0.0</td>\n",
       "      <td>0.000000e+00</td>\n",
       "      <td>0.000000e+00</td>\n",
       "      <td>0.000000e+00</td>\n",
       "      <td>0.000000e+00</td>\n",
       "      <td>0.000000e+00</td>\n",
       "      <td>...</td>\n",
       "      <td>0.000000e+00</td>\n",
       "      <td>0.000000e+00</td>\n",
       "      <td>0.000000e+00</td>\n",
       "      <td>0.000000e+00</td>\n",
       "      <td>0.000000e+00</td>\n",
       "      <td>0.000000e+00</td>\n",
       "      <td>0.000000e+00</td>\n",
       "      <td>0.000000e+00</td>\n",
       "      <td>1.122101e-32</td>\n",
       "      <td>1.195428e-32</td>\n",
       "    </tr>\n",
       "    <tr>\n",
       "      <th>...</th>\n",
       "      <td>...</td>\n",
       "      <td>...</td>\n",
       "      <td>...</td>\n",
       "      <td>...</td>\n",
       "      <td>...</td>\n",
       "      <td>...</td>\n",
       "      <td>...</td>\n",
       "      <td>...</td>\n",
       "      <td>...</td>\n",
       "      <td>...</td>\n",
       "      <td>...</td>\n",
       "      <td>...</td>\n",
       "      <td>...</td>\n",
       "      <td>...</td>\n",
       "      <td>...</td>\n",
       "      <td>...</td>\n",
       "      <td>...</td>\n",
       "      <td>...</td>\n",
       "      <td>...</td>\n",
       "      <td>...</td>\n",
       "      <td>...</td>\n",
       "    </tr>\n",
       "    <tr>\n",
       "      <th>12187</th>\n",
       "      <td>0.000000e+00</td>\n",
       "      <td>0.000000e+00</td>\n",
       "      <td>0.000000e+00</td>\n",
       "      <td>0.000000e+00</td>\n",
       "      <td>0.0</td>\n",
       "      <td>1.583152e-07</td>\n",
       "      <td>0.000000e+00</td>\n",
       "      <td>0.000000e+00</td>\n",
       "      <td>9.998994e-01</td>\n",
       "      <td>6.938138e-07</td>\n",
       "      <td>...</td>\n",
       "      <td>2.175890e-22</td>\n",
       "      <td>1.673090e-33</td>\n",
       "      <td>5.887159e-05</td>\n",
       "      <td>1.733804e-08</td>\n",
       "      <td>1.121411e-08</td>\n",
       "      <td>0.000000e+00</td>\n",
       "      <td>6.932882e-12</td>\n",
       "      <td>8.648138e-06</td>\n",
       "      <td>4.446920e-17</td>\n",
       "      <td>3.831090e-08</td>\n",
       "    </tr>\n",
       "    <tr>\n",
       "      <th>12188</th>\n",
       "      <td>0.000000e+00</td>\n",
       "      <td>0.000000e+00</td>\n",
       "      <td>0.000000e+00</td>\n",
       "      <td>0.000000e+00</td>\n",
       "      <td>0.0</td>\n",
       "      <td>7.231835e-32</td>\n",
       "      <td>7.592091e-25</td>\n",
       "      <td>1.657290e-26</td>\n",
       "      <td>1.813864e-24</td>\n",
       "      <td>9.831880e-23</td>\n",
       "      <td>...</td>\n",
       "      <td>9.761860e-35</td>\n",
       "      <td>0.000000e+00</td>\n",
       "      <td>0.000000e+00</td>\n",
       "      <td>0.000000e+00</td>\n",
       "      <td>2.557197e-09</td>\n",
       "      <td>9.319163e-21</td>\n",
       "      <td>1.759803e-15</td>\n",
       "      <td>2.551923e-18</td>\n",
       "      <td>1.138498e-05</td>\n",
       "      <td>1.846811e-03</td>\n",
       "    </tr>\n",
       "    <tr>\n",
       "      <th>12189</th>\n",
       "      <td>2.515418e-38</td>\n",
       "      <td>0.000000e+00</td>\n",
       "      <td>0.000000e+00</td>\n",
       "      <td>0.000000e+00</td>\n",
       "      <td>0.0</td>\n",
       "      <td>1.625318e-27</td>\n",
       "      <td>5.568456e-36</td>\n",
       "      <td>0.000000e+00</td>\n",
       "      <td>8.528133e-09</td>\n",
       "      <td>8.971041e-19</td>\n",
       "      <td>...</td>\n",
       "      <td>4.128253e-29</td>\n",
       "      <td>0.000000e+00</td>\n",
       "      <td>1.025372e-06</td>\n",
       "      <td>9.313636e-07</td>\n",
       "      <td>1.989086e-15</td>\n",
       "      <td>3.333811e-38</td>\n",
       "      <td>2.327226e-14</td>\n",
       "      <td>1.434127e-24</td>\n",
       "      <td>5.859262e-16</td>\n",
       "      <td>4.408490e-21</td>\n",
       "    </tr>\n",
       "    <tr>\n",
       "      <th>12190</th>\n",
       "      <td>1.401169e-38</td>\n",
       "      <td>0.000000e+00</td>\n",
       "      <td>0.000000e+00</td>\n",
       "      <td>3.891545e-38</td>\n",
       "      <td>0.0</td>\n",
       "      <td>0.000000e+00</td>\n",
       "      <td>2.000279e-38</td>\n",
       "      <td>6.555138e-37</td>\n",
       "      <td>4.913420e-34</td>\n",
       "      <td>1.364703e-28</td>\n",
       "      <td>...</td>\n",
       "      <td>0.000000e+00</td>\n",
       "      <td>0.000000e+00</td>\n",
       "      <td>0.000000e+00</td>\n",
       "      <td>8.776966e-22</td>\n",
       "      <td>6.335216e-20</td>\n",
       "      <td>0.000000e+00</td>\n",
       "      <td>3.264219e-17</td>\n",
       "      <td>1.283876e-26</td>\n",
       "      <td>7.531876e-26</td>\n",
       "      <td>1.836354e-27</td>\n",
       "    </tr>\n",
       "    <tr>\n",
       "      <th>12191</th>\n",
       "      <td>0.000000e+00</td>\n",
       "      <td>0.000000e+00</td>\n",
       "      <td>5.400427e-37</td>\n",
       "      <td>0.000000e+00</td>\n",
       "      <td>0.0</td>\n",
       "      <td>0.000000e+00</td>\n",
       "      <td>0.000000e+00</td>\n",
       "      <td>1.887413e-32</td>\n",
       "      <td>6.890713e-25</td>\n",
       "      <td>0.000000e+00</td>\n",
       "      <td>...</td>\n",
       "      <td>0.000000e+00</td>\n",
       "      <td>0.000000e+00</td>\n",
       "      <td>0.000000e+00</td>\n",
       "      <td>0.000000e+00</td>\n",
       "      <td>6.666715e-26</td>\n",
       "      <td>7.196367e-36</td>\n",
       "      <td>2.204979e-30</td>\n",
       "      <td>0.000000e+00</td>\n",
       "      <td>9.140579e-28</td>\n",
       "      <td>1.126999e-34</td>\n",
       "    </tr>\n",
       "  </tbody>\n",
       "</table>\n",
       "<p>12192 rows × 42 columns</p>\n",
       "</div>"
      ],
      "text/plain": [
       "                 0             1             2             3    4   \\\n",
       "0      0.000000e+00  0.000000e+00  0.000000e+00  0.000000e+00  0.0   \n",
       "1      3.285074e-13  8.928470e-34  2.369766e-11  1.687883e-23  0.0   \n",
       "2      0.000000e+00  0.000000e+00  7.057313e-35  2.700236e-30  0.0   \n",
       "3      3.749531e-34  1.787468e-36  5.069679e-35  0.000000e+00  0.0   \n",
       "4      0.000000e+00  0.000000e+00  0.000000e+00  0.000000e+00  0.0   \n",
       "...             ...           ...           ...           ...  ...   \n",
       "12187  0.000000e+00  0.000000e+00  0.000000e+00  0.000000e+00  0.0   \n",
       "12188  0.000000e+00  0.000000e+00  0.000000e+00  0.000000e+00  0.0   \n",
       "12189  2.515418e-38  0.000000e+00  0.000000e+00  0.000000e+00  0.0   \n",
       "12190  1.401169e-38  0.000000e+00  0.000000e+00  3.891545e-38  0.0   \n",
       "12191  0.000000e+00  0.000000e+00  5.400427e-37  0.000000e+00  0.0   \n",
       "\n",
       "                 5             6             7             8             9   \\\n",
       "0      0.000000e+00  0.000000e+00  0.000000e+00  0.000000e+00  2.753801e-29   \n",
       "1      1.421888e-31  0.000000e+00  0.000000e+00  0.000000e+00  0.000000e+00   \n",
       "2      3.274752e-27  1.139715e-12  5.176672e-27  5.682398e-14  3.785910e-24   \n",
       "3      1.936048e-38  0.000000e+00  0.000000e+00  2.443096e-28  9.178845e-13   \n",
       "4      0.000000e+00  0.000000e+00  0.000000e+00  0.000000e+00  0.000000e+00   \n",
       "...             ...           ...           ...           ...           ...   \n",
       "12187  1.583152e-07  0.000000e+00  0.000000e+00  9.998994e-01  6.938138e-07   \n",
       "12188  7.231835e-32  7.592091e-25  1.657290e-26  1.813864e-24  9.831880e-23   \n",
       "12189  1.625318e-27  5.568456e-36  0.000000e+00  8.528133e-09  8.971041e-19   \n",
       "12190  0.000000e+00  2.000279e-38  6.555138e-37  4.913420e-34  1.364703e-28   \n",
       "12191  0.000000e+00  0.000000e+00  1.887413e-32  6.890713e-25  0.000000e+00   \n",
       "\n",
       "       ...            32            33            34            35  \\\n",
       "0      ...  0.000000e+00  0.000000e+00  0.000000e+00  0.000000e+00   \n",
       "1      ...  0.000000e+00  0.000000e+00  0.000000e+00  0.000000e+00   \n",
       "2      ...  5.591325e-33  0.000000e+00  8.697151e-12  5.205094e-17   \n",
       "3      ...  0.000000e+00  0.000000e+00  2.518557e-25  2.754715e-37   \n",
       "4      ...  0.000000e+00  0.000000e+00  0.000000e+00  0.000000e+00   \n",
       "...    ...           ...           ...           ...           ...   \n",
       "12187  ...  2.175890e-22  1.673090e-33  5.887159e-05  1.733804e-08   \n",
       "12188  ...  9.761860e-35  0.000000e+00  0.000000e+00  0.000000e+00   \n",
       "12189  ...  4.128253e-29  0.000000e+00  1.025372e-06  9.313636e-07   \n",
       "12190  ...  0.000000e+00  0.000000e+00  0.000000e+00  8.776966e-22   \n",
       "12191  ...  0.000000e+00  0.000000e+00  0.000000e+00  0.000000e+00   \n",
       "\n",
       "                 36            37            38            39            40  \\\n",
       "0      1.298558e-35  0.000000e+00  0.000000e+00  1.812395e-32  0.000000e+00   \n",
       "1      0.000000e+00  0.000000e+00  0.000000e+00  0.000000e+00  0.000000e+00   \n",
       "2      7.599243e-01  2.850452e-30  9.510226e-02  5.839766e-06  5.557763e-05   \n",
       "3      1.131773e-11  2.063561e-25  1.240158e-12  4.016607e-17  1.229243e-23   \n",
       "4      0.000000e+00  0.000000e+00  0.000000e+00  0.000000e+00  1.122101e-32   \n",
       "...             ...           ...           ...           ...           ...   \n",
       "12187  1.121411e-08  0.000000e+00  6.932882e-12  8.648138e-06  4.446920e-17   \n",
       "12188  2.557197e-09  9.319163e-21  1.759803e-15  2.551923e-18  1.138498e-05   \n",
       "12189  1.989086e-15  3.333811e-38  2.327226e-14  1.434127e-24  5.859262e-16   \n",
       "12190  6.335216e-20  0.000000e+00  3.264219e-17  1.283876e-26  7.531876e-26   \n",
       "12191  6.666715e-26  7.196367e-36  2.204979e-30  0.000000e+00  9.140579e-28   \n",
       "\n",
       "                 41  \n",
       "0      1.197570e-36  \n",
       "1      0.000000e+00  \n",
       "2      4.086882e-09  \n",
       "3      1.890447e-10  \n",
       "4      1.195428e-32  \n",
       "...             ...  \n",
       "12187  3.831090e-08  \n",
       "12188  1.846811e-03  \n",
       "12189  4.408490e-21  \n",
       "12190  1.836354e-27  \n",
       "12191  1.126999e-34  \n",
       "\n",
       "[12192 rows x 42 columns]"
      ]
     },
     "execution_count": 269,
     "metadata": {},
     "output_type": "execute_result"
    }
   ],
   "source": [
    "a = pd.DataFrame(predict)\n",
    "a"
   ]
  },
  {
   "cell_type": "code",
   "execution_count": 266,
   "metadata": {},
   "outputs": [
    {
     "data": {
      "text/plain": [
       "12"
      ]
     },
     "execution_count": 266,
     "metadata": {},
     "output_type": "execute_result"
    }
   ],
   "source": [
    "np.argmax(a.iloc[4])"
   ]
  },
  {
   "cell_type": "code",
   "execution_count": 33,
   "metadata": {},
   "outputs": [],
   "source": [
    "import numpy as np\n",
    "b = np.argmax(predict,axis=1)"
   ]
  },
  {
   "cell_type": "code",
   "execution_count": 270,
   "metadata": {},
   "outputs": [
    {
     "name": "stderr",
     "output_type": "stream",
     "text": [
      "Clipping input data to the valid range for imshow with RGB data ([0..1] for floats or [0..255] for integers).\n"
     ]
    },
    {
     "data": {
      "image/png": "[encoded data removed]",
      "text/plain": [
       "<Figure size 432x288 with 1 Axes>"
      ]
     },
     "metadata": {
      "needs_background": "light"
     },
     "output_type": "display_data"
    }
   ],
   "source": [
    "from matplotlib import pyplot as plt\n",
    "plt.imshow(test_generator[4][0], interpolation='nearest')\n",
    "plt.show()"
   ]
  },
  {
   "cell_type": "code",
   "execution_count": 34,
   "metadata": {},
   "outputs": [],
   "source": [
    "lol = pd.DataFrame(b)"
   ]
  },
  {
   "cell_type": "code",
   "execution_count": 35,
   "metadata": {},
   "outputs": [
    {
     "data": {
      "text/html": [
       "<div>\n",
       "<style scoped>\n",
       "    .dataframe tbody tr th:only-of-type {\n",
       "        vertical-align: middle;\n",
       "    }\n",
       "\n",
       "    .dataframe tbody tr th {\n",
       "        vertical-align: top;\n",
       "    }\n",
       "\n",
       "    .dataframe thead th {\n",
       "        text-align: right;\n",
       "    }\n",
       "</style>\n",
       "<table border=\"1\" class=\"dataframe\">\n",
       "  <thead>\n",
       "    <tr style=\"text-align: right;\">\n",
       "      <th></th>\n",
       "      <th>0</th>\n",
       "    </tr>\n",
       "  </thead>\n",
       "  <tbody>\n",
       "    <tr>\n",
       "      <th>0</th>\n",
       "      <td>12</td>\n",
       "    </tr>\n",
       "    <tr>\n",
       "      <th>1</th>\n",
       "      <td>16</td>\n",
       "    </tr>\n",
       "    <tr>\n",
       "      <th>2</th>\n",
       "      <td>36</td>\n",
       "    </tr>\n",
       "    <tr>\n",
       "      <th>3</th>\n",
       "      <td>22</td>\n",
       "    </tr>\n",
       "    <tr>\n",
       "      <th>4</th>\n",
       "      <td>12</td>\n",
       "    </tr>\n",
       "    <tr>\n",
       "      <th>...</th>\n",
       "      <td>...</td>\n",
       "    </tr>\n",
       "    <tr>\n",
       "      <th>12187</th>\n",
       "      <td>8</td>\n",
       "    </tr>\n",
       "    <tr>\n",
       "      <th>12188</th>\n",
       "      <td>20</td>\n",
       "    </tr>\n",
       "    <tr>\n",
       "      <th>12189</th>\n",
       "      <td>21</td>\n",
       "    </tr>\n",
       "    <tr>\n",
       "      <th>12190</th>\n",
       "      <td>23</td>\n",
       "    </tr>\n",
       "    <tr>\n",
       "      <th>12191</th>\n",
       "      <td>12</td>\n",
       "    </tr>\n",
       "  </tbody>\n",
       "</table>\n",
       "<p>12192 rows × 1 columns</p>\n",
       "</div>"
      ],
      "text/plain": [
       "        0\n",
       "0      12\n",
       "1      16\n",
       "2      36\n",
       "3      22\n",
       "4      12\n",
       "...    ..\n",
       "12187   8\n",
       "12188  20\n",
       "12189  21\n",
       "12190  23\n",
       "12191  12\n",
       "\n",
       "[12192 rows x 1 columns]"
      ]
     },
     "execution_count": 35,
     "metadata": {},
     "output_type": "execute_result"
    }
   ],
   "source": [
    "lol"
   ]
  },
  {
   "cell_type": "code",
   "execution_count": 152,
   "metadata": {},
   "outputs": [
    {
     "data": {
      "text/html": [
       "<div>\n",
       "<style scoped>\n",
       "    .dataframe tbody tr th:only-of-type {\n",
       "        vertical-align: middle;\n",
       "    }\n",
       "\n",
       "    .dataframe tbody tr th {\n",
       "        vertical-align: top;\n",
       "    }\n",
       "\n",
       "    .dataframe thead th {\n",
       "        text-align: right;\n",
       "    }\n",
       "</style>\n",
       "<table border=\"1\" class=\"dataframe\">\n",
       "  <thead>\n",
       "    <tr style=\"text-align: right;\">\n",
       "      <th></th>\n",
       "      <th>filename</th>\n",
       "      <th>category</th>\n",
       "    </tr>\n",
       "  </thead>\n",
       "  <tbody>\n",
       "    <tr>\n",
       "      <th>0</th>\n",
       "      <td>fd663cf2b6e1d7b02938c6aaae0a32d2.jpg</td>\n",
       "      <td>43</td>\n",
       "    </tr>\n",
       "    <tr>\n",
       "      <th>1</th>\n",
       "      <td>c7fd77508a8c355eaab0d4e10efd6b15.jpg</td>\n",
       "      <td>43</td>\n",
       "    </tr>\n",
       "    <tr>\n",
       "      <th>2</th>\n",
       "      <td>127f3e6d6e3491b2459812353f33a913.jpg</td>\n",
       "      <td>43</td>\n",
       "    </tr>\n",
       "    <tr>\n",
       "      <th>3</th>\n",
       "      <td>5ca4f2da11eda083064e6c36f37eeb81.jpg</td>\n",
       "      <td>43</td>\n",
       "    </tr>\n",
       "    <tr>\n",
       "      <th>4</th>\n",
       "      <td>46d681a542f2c71be017eef6aae23313.jpg</td>\n",
       "      <td>43</td>\n",
       "    </tr>\n",
       "    <tr>\n",
       "      <th>...</th>\n",
       "      <td>...</td>\n",
       "      <td>...</td>\n",
       "    </tr>\n",
       "    <tr>\n",
       "      <th>12181</th>\n",
       "      <td>5ba958eacb23cd7d1673bad4dae55784.jpg</td>\n",
       "      <td>43</td>\n",
       "    </tr>\n",
       "    <tr>\n",
       "      <th>12182</th>\n",
       "      <td>efbe41a1c2b666b70e337e438559808b.jpg</td>\n",
       "      <td>43</td>\n",
       "    </tr>\n",
       "    <tr>\n",
       "      <th>12183</th>\n",
       "      <td>79fdaa5ac5ba10dbe8004cabd8c35eb3.jpg</td>\n",
       "      <td>43</td>\n",
       "    </tr>\n",
       "    <tr>\n",
       "      <th>12184</th>\n",
       "      <td>ac3d136124617637a05ba66694e381ef.jpg</td>\n",
       "      <td>43</td>\n",
       "    </tr>\n",
       "    <tr>\n",
       "      <th>12185</th>\n",
       "      <td>7ef61d7cfbad9cfe2db4f64560e3dddd.jpg</td>\n",
       "      <td>43</td>\n",
       "    </tr>\n",
       "  </tbody>\n",
       "</table>\n",
       "<p>12186 rows × 2 columns</p>\n",
       "</div>"
      ],
      "text/plain": [
       "                                   filename  category\n",
       "0      fd663cf2b6e1d7b02938c6aaae0a32d2.jpg        43\n",
       "1      c7fd77508a8c355eaab0d4e10efd6b15.jpg        43\n",
       "2      127f3e6d6e3491b2459812353f33a913.jpg        43\n",
       "3      5ca4f2da11eda083064e6c36f37eeb81.jpg        43\n",
       "4      46d681a542f2c71be017eef6aae23313.jpg        43\n",
       "...                                     ...       ...\n",
       "12181  5ba958eacb23cd7d1673bad4dae55784.jpg        43\n",
       "12182  efbe41a1c2b666b70e337e438559808b.jpg        43\n",
       "12183  79fdaa5ac5ba10dbe8004cabd8c35eb3.jpg        43\n",
       "12184  ac3d136124617637a05ba66694e381ef.jpg        43\n",
       "12185  7ef61d7cfbad9cfe2db4f64560e3dddd.jpg        43\n",
       "\n",
       "[12186 rows x 2 columns]"
      ]
     },
     "execution_count": 152,
     "metadata": {},
     "output_type": "execute_result"
    }
   ],
   "source": [
    "import tqdm\n",
    "test = pd.read_csv(r'D:\\Downloads\\Copy of shopee-product-detection-dataset\\test.csv')\n",
    "test"
   ]
  },
  {
   "cell_type": "code",
   "execution_count": 55,
   "metadata": {},
   "outputs": [],
   "source": [
    "\n",
    "photo_files = []\n",
    "photo_dir = r'D:\\Downloads\\Copy of shopee-product-detection-dataset\\test\\test'\n",
    "test_image = []\n",
    "for i in range(test.shape[0]):\n",
    "    img = image.load_img('D:/Downloads/Copy of shopee-product-detection-dataset/test/test/'+test['filename'][i], target_size=(224,224,3), grayscale=False)\n",
    "    img = image.img_to_array(img)\n",
    "    img = img/255\n",
    "    test_image.append(img)\n",
    "test_1 = np.array(test_image)"
   ]
  },
  {
   "cell_type": "code",
   "execution_count": 277,
   "metadata": {},
   "outputs": [
    {
     "data": {
      "text/plain": [
       "[0,\n",
       " 1,\n",
       " 2,\n",
       " 3,\n",
       " 4,\n",
       " 5,\n",
       " 6,\n",
       " 7,\n",
       " 8,\n",
       " 9,\n",
       " 10,\n",
       " 11,\n",
       " 12,\n",
       " 13,\n",
       " 14,\n",
       " 15,\n",
       " 16,\n",
       " 17,\n",
       " 18,\n",
       " 19,\n",
       " 20,\n",
       " 21,\n",
       " 22,\n",
       " 23,\n",
       " 24,\n",
       " 25,\n",
       " 26,\n",
       " 27,\n",
       " 28,\n",
       " 29,\n",
       " 30,\n",
       " 31,\n",
       " 32,\n",
       " 33,\n",
       " 34,\n",
       " 35,\n",
       " 36,\n",
       " 37,\n",
       " 38,\n",
       " 39,\n",
       " 40,\n",
       " 41]"
      ]
     },
     "execution_count": 277,
     "metadata": {},
     "output_type": "execute_result"
    }
   ],
   "source": [
    "classes_label = []\n",
    "for i in range(0,42):\n",
    "    classes_label.append(i)\n",
    "classes_label"
   ]
  },
  {
   "cell_type": "code",
   "execution_count": 284,
   "metadata": {},
   "outputs": [],
   "source": [
    "img = image.load_img(r'C:\\Users\\User\\Downloads\\WhatsApp Image 2020-09-28 at 04.49.38.jpeg', target_size=(224,224,3), grayscale=False)\n",
    "img = image.img_to_array(img)\n",
    "imgs = img.reshape((-1,224,224,3))\n",
    "#image_to_test = image.img_to_array(img)\n",
    "#list_of_images = np.expand_dims(image_to_test, axis=0)"
   ]
  },
  {
   "cell_type": "code",
   "execution_count": 285,
   "metadata": {},
   "outputs": [
    {
     "data": {
      "image/png": "[encoded data removed]",
      "text/plain": [
       "<Figure size 432x288 with 1 Axes>"
      ]
     },
     "metadata": {
      "needs_background": "light"
     },
     "output_type": "display_data"
    }
   ],
   "source": [
    "\n",
    "\n",
    "from matplotlib import pyplot as plt\n",
    "plt.imshow(img/255, interpolation='nearest')\n",
    "plt.show()"
   ]
  },
  {
   "cell_type": "code",
   "execution_count": 286,
   "metadata": {},
   "outputs": [],
   "source": [
    "results = model.predict(imgs)"
   ]
  },
  {
   "cell_type": "code",
   "execution_count": 287,
   "metadata": {},
   "outputs": [],
   "source": [
    "single_result = results[0]\n",
    "most_likely_class_index = int(np.argmax(single_result))\n",
    "class_likelihood = single_result[most_likely_class_index]\n",
    "whichclass = classes_label[most_likely_class_index]"
   ]
  },
  {
   "cell_type": "code",
   "execution_count": 288,
   "metadata": {},
   "outputs": [
    {
     "data": {
      "text/plain": [
       "14"
      ]
     },
     "execution_count": 288,
     "metadata": {},
     "output_type": "execute_result"
    }
   ],
   "source": [
    "whichclass"
   ]
  },
  {
   "cell_type": "code",
   "execution_count": 289,
   "metadata": {},
   "outputs": [
    {
     "name": "stdout",
     "output_type": "stream",
     "text": [
      "This is image is a 14 - Likelihood: 0.999990\n"
     ]
    }
   ],
   "source": [
    "print(\"This is image is a {} - Likelihood: {:2f}\".format(whichclass, class_likelihood))"
   ]
  },
  {
   "cell_type": "code",
   "execution_count": null,
   "metadata": {},
   "outputs": [],
   "source": []
  }
 ],
 "metadata": {
  "kernelspec": {
   "display_name": "Python 3",
   "language": "python",
   "name": "python3"
  },
  "language_info": {
   "codemirror_mode": {
    "name": "ipython",
    "version": 3
   },
   "file_extension": ".py",
   "mimetype": "text/x-python",
   "name": "python",
   "nbconvert_exporter": "python",
   "pygments_lexer": "ipython3",
   "version": "3.9.2"
  }
 },
 "nbformat": 4,
 "nbformat_minor": 4
}
